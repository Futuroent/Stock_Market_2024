{
 "cells": [
  {
   "cell_type": "code",
   "execution_count": 5,
   "id": "84da6a24-44e7-4216-83bb-68c3904b3419",
   "metadata": {},
   "outputs": [],
   "source": [
    "import torch\n",
    "import torch.nn as nn\n",
    "import torch.optim as optim\n",
    "from torch.utils.data import DataLoader, TensorDataset\n",
    "import numpy as np\n",
    "import pandas as pd\n",
    "from sklearn.preprocessing import MinMaxScaler"
   ]
  },
  {
   "cell_type": "markdown",
   "id": "e323cb1c-01bc-4a31-a8b5-d33b39f7572f",
   "metadata": {},
   "source": [
    "### Load Apple stock data"
   ]
  },
  {
   "cell_type": "code",
   "execution_count": 8,
   "id": "5e89fc49-7b54-47d1-8ff7-d269df41943c",
   "metadata": {},
   "outputs": [
    {
     "name": "stdout",
     "output_type": "stream",
     "text": [
      "[[0.0307376 ]\n",
      " [0.02939368]\n",
      " [0.02646537]\n",
      " [0.02586419]\n",
      " [0.02613762]]\n"
     ]
    }
   ],
   "source": [
    "# Load Apple stock data from the previously saved CSV file\n",
    "apple_stock_data = pd.read_csv('../Data/apple_stock_data.csv', index_col='Date', parse_dates=True)\n",
    "\n",
    "# Select the 'Close' price column as the target variable for prediction\n",
    "stock_prices = apple_stock_data[['Close']]\n",
    "\n",
    "# Scale the data using MinMaxScaler\n",
    "scaler = MinMaxScaler(feature_range=(0, 1))\n",
    "scaled_data = scaler.fit_transform(stock_prices)\n",
    "\n",
    "# Check the first few rows of the scaled data\n",
    "print(scaled_data[:5])\n"
   ]
  },
  {
   "cell_type": "code",
   "execution_count": 57,
   "id": "608a927b-7440-41c3-a926-c381573daaf9",
   "metadata": {},
   "outputs": [
    {
     "data": {
      "text/plain": [
       "['../models/stock_scaler_new.pkl']"
      ]
     },
     "execution_count": 57,
     "metadata": {},
     "output_type": "execute_result"
    }
   ],
   "source": [
    "# After scaling the data, save the scaler\n",
    "from sklearn.preprocessing import MinMaxScaler\n",
    "import numpy as np\n",
    "import joblib\n",
    "\n",
    "# Example: training the scaler with the correct feature set (if not already done)\n",
    "# If you have the original training data, replace this with your dataset\n",
    "training_data = np.random.rand(100, 8)  # Assume you have 100 samples with 8 features\n",
    "\n",
    "# Initialize and fit the scaler\n",
    "scaler = MinMaxScaler()\n",
    "scaler.fit(training_data)\n",
    "\n",
    "# Save the new scaler\n",
    "joblib.dump(scaler, '../models/stock_scaler_new.pkl')\n"
   ]
  },
  {
   "cell_type": "markdown",
   "id": "fd9d1a46-985e-467c-bc9e-d526a5dfc765",
   "metadata": {},
   "source": [
    "### Create sequences and targets"
   ]
  },
  {
   "cell_type": "code",
   "execution_count": 11,
   "id": "dc20838b-4de7-42a5-8ee9-7b9235d25a9a",
   "metadata": {},
   "outputs": [
    {
     "name": "stdout",
     "output_type": "stream",
     "text": [
      "X shape: (2708, 60), y shape: (2708,)\n"
     ]
    }
   ],
   "source": [
    "def create_sequences(data, window_size):\n",
    "    sequences = []\n",
    "    targets = []\n",
    "    \n",
    "    for i in range(window_size, len(data)):\n",
    "        sequences.append(data[i-window_size:i, 0])  # Get the previous 'window_size' days\n",
    "        targets.append(data[i, 0])  # Target is the next day's price\n",
    "\n",
    "    return np.array(sequences), np.array(targets)\n",
    "\n",
    "# Define window size (e.g., 60 days)\n",
    "window_size = 60\n",
    "\n",
    "# Create sequences and targets\n",
    "X, y = create_sequences(scaled_data, window_size)\n",
    "\n",
    "# Check the shape of the resulting arrays\n",
    "print(f\"X shape: {X.shape}, y shape: {y.shape}\")\n"
   ]
  },
  {
   "cell_type": "markdown",
   "id": "79d9767f-fc9f-459e-8f61-d47539ab6eeb",
   "metadata": {},
   "source": [
    "### Split the data into training and testing sets"
   ]
  },
  {
   "cell_type": "code",
   "execution_count": 14,
   "id": "39b2bb61-cfac-41bb-8c8f-318b962488dc",
   "metadata": {},
   "outputs": [
    {
     "name": "stdout",
     "output_type": "stream",
     "text": [
      "X_train shape: (2166, 60), X_test shape: (542, 60)\n",
      "y_train shape: (2166,), y_test shape: (542,)\n"
     ]
    }
   ],
   "source": [
    "from sklearn.model_selection import train_test_split\n",
    "\n",
    "# Split the data (e.g., 80% training, 20% testing)\n",
    "X_train, X_test, y_train, y_test = train_test_split(X, y, test_size=0.2, shuffle=False)\n",
    "\n",
    "# Check the shapes of the training and testing sets\n",
    "print(f\"X_train shape: {X_train.shape}, X_test shape: {X_test.shape}\")\n",
    "print(f\"y_train shape: {y_train.shape}, y_test shape: {y_test.shape}\")\n"
   ]
  },
  {
   "cell_type": "markdown",
   "id": "e78038a4-c3ce-4a88-9d09-f3ecb6ef8b48",
   "metadata": {},
   "source": [
    "### 5.Convert the data to PyTorch tensors"
   ]
  },
  {
   "cell_type": "code",
   "execution_count": 17,
   "id": "62ad2264-482b-4013-a8ea-e7102469db8f",
   "metadata": {},
   "outputs": [],
   "source": [
    "X_train_tensor = torch.Tensor(X_train)\n",
    "y_train_tensor = torch.Tensor(y_train)\n",
    "X_test_tensor = torch.Tensor(X_test)\n",
    "y_test_tensor = torch.Tensor(y_test)"
   ]
  },
  {
   "cell_type": "markdown",
   "id": "546a0da2-96a1-4f24-b4eb-5ee3e229e825",
   "metadata": {},
   "source": [
    "## 5.1 :Train and Evalute the LSTM Model"
   ]
  },
  {
   "cell_type": "code",
   "execution_count": 20,
   "id": "8764a73d-2cf6-45c5-a317-1e31cb07dd9f",
   "metadata": {},
   "outputs": [],
   "source": [
    "import torch\n",
    "import torch.nn as nn\n",
    "import torch.optim as optim\n",
    "\n",
    "# Define the LSTM-like model in PyTorch\n",
    "class LSTMModel(nn.Module):\n",
    "    def __init__(self, input_size, hidden_size, num_layers, output_size):\n",
    "        super(LSTMModel, self).__init__()\n",
    "        self.hidden_size = hidden_size\n",
    "        self.num_layers = num_layers\n",
    "        self.lstm = nn.LSTM(input_size, hidden_size, num_layers, batch_first=True)\n",
    "        self.fc = nn.Linear(hidden_size, output_size)\n",
    "\n",
    "    def forward(self, x):\n",
    "        h0 = torch.zeros(self.num_layers, x.size(0), self.hidden_size)\n",
    "        c0 = torch.zeros(self.num_layers, x.size(0), self.hidden_size)\n",
    "        \n",
    "        out, _ = self.lstm(x, (h0, c0))\n",
    "        out = self.fc(out[:, -1, :])\n",
    "        return out\n",
    "\n",
    "\n"
   ]
  },
  {
   "cell_type": "code",
   "execution_count": 22,
   "id": "b97b1b6d-c2ab-49ab-8e06-f4403efd86f1",
   "metadata": {},
   "outputs": [],
   "source": [
    "# Initialize the model, loss function, and optimizer\n",
    "input_size = 1\n",
    "hidden_size = 50\n",
    "num_layers = 2\n",
    "output_size = 1\n",
    "\n",
    "lstm_model = LSTMModel(input_size, hidden_size, num_layers, output_size)"
   ]
  },
  {
   "cell_type": "code",
   "execution_count": 24,
   "id": "165ae2f8-2d5a-4ab1-b70a-dbd11bcb31ed",
   "metadata": {},
   "outputs": [],
   "source": [
    "from torch.utils.data import DataLoader, TensorDataset\n",
    "\n",
    "# Convert your training and test data to PyTorch tensors (if not already)\n",
    "X_train_tensor = torch.tensor(X_train, dtype=torch.float32)\n",
    "y_train_tensor = torch.tensor(y_train, dtype=torch.float32)\n",
    "X_test_tensor = torch.tensor(X_test, dtype=torch.float32)\n",
    "y_test_tensor = torch.tensor(y_test, dtype=torch.float32)\n",
    "\n",
    "# Create TensorDatasets\n",
    "train_dataset = TensorDataset(X_train_tensor, y_train_tensor)\n",
    "test_dataset = TensorDataset(X_test_tensor, y_test_tensor)\n",
    "\n",
    "# Create DataLoaders\n",
    "train_loader = DataLoader(train_dataset, batch_size=32, shuffle=True)\n",
    "test_loader = DataLoader(test_dataset, batch_size=32, shuffle=False)\n"
   ]
  },
  {
   "cell_type": "code",
   "execution_count": 26,
   "id": "b5eeeae0-2193-4fb2-8db5-29de6cb04146",
   "metadata": {},
   "outputs": [],
   "source": [
    "### Train the Model"
   ]
  },
  {
   "cell_type": "code",
   "execution_count": 28,
   "id": "8809f3ff-405e-45da-be6f-c3ed2e6ab9ff",
   "metadata": {},
   "outputs": [
    {
     "name": "stdout",
     "output_type": "stream",
     "text": [
      "Epoch 1/20, Loss: 0.00128560746088624\n",
      "Epoch 2/20, Loss: 0.000300990097457543\n",
      "Epoch 3/20, Loss: 0.0004134344635531306\n",
      "Epoch 4/20, Loss: 0.0002491327468305826\n",
      "Epoch 5/20, Loss: 0.00012176693417131901\n",
      "Epoch 6/20, Loss: 0.00022410921519622207\n",
      "Epoch 7/20, Loss: 0.0002784508978947997\n",
      "Epoch 8/20, Loss: 0.000540104927495122\n",
      "Epoch 9/20, Loss: 0.0001368215453112498\n",
      "Epoch 10/20, Loss: 8.643580804346129e-05\n",
      "Epoch 11/20, Loss: 0.00038118238444440067\n",
      "Epoch 12/20, Loss: 0.0002806304255500436\n",
      "Epoch 13/20, Loss: 6.541957554873079e-05\n",
      "Epoch 14/20, Loss: 8.090258779702708e-05\n",
      "Epoch 15/20, Loss: 0.0004893316654488444\n",
      "Epoch 16/20, Loss: 0.00015526151400990784\n",
      "Epoch 17/20, Loss: 8.16236060927622e-05\n",
      "Epoch 18/20, Loss: 2.453576962579973e-05\n",
      "Epoch 19/20, Loss: 8.758640615269542e-05\n",
      "Epoch 20/20, Loss: 0.00015780198737047613\n",
      "Test Loss: 0.0007454538204268936\n"
     ]
    }
   ],
   "source": [
    "# Define the loss and optimizer\n",
    "criterion = nn.MSELoss()\n",
    "optimizer = optim.Adam(lstm_model.parameters(), lr=0.001)\n",
    "\n",
    "# Training loop\n",
    "num_epochs = 20\n",
    "for epoch in range(num_epochs):\n",
    "    for X_batch, y_batch in train_loader:\n",
    "        optimizer.zero_grad()\n",
    "        outputs = lstm_model(X_batch.unsqueeze(-1))  # Adding extra dimension for input size\n",
    "        loss = criterion(outputs, y_batch.unsqueeze(-1))\n",
    "        loss.backward()\n",
    "        optimizer.step()\n",
    "\n",
    "    print(f'Epoch {epoch+1}/{num_epochs}, Loss: {loss.item()}')\n",
    "\n",
    "# Test Loss evaluation (after training)\n",
    "lstm_model.eval()\n",
    "test_loss = 0.0\n",
    "with torch.no_grad():\n",
    "    for X_batch, y_batch in test_loader:\n",
    "        outputs = lstm_model(X_batch.unsqueeze(-1))\n",
    "        loss = criterion(outputs, y_batch.unsqueeze(-1))\n",
    "        test_loss += loss.item()\n",
    "\n",
    "test_loss /= len(test_loader)\n",
    "print(f'Test Loss: {test_loss}')\n"
   ]
  },
  {
   "cell_type": "code",
   "execution_count": null,
   "id": "9fa6ad69-b8d9-4b69-9b72-4acfde02d4ec",
   "metadata": {},
   "outputs": [],
   "source": []
  },
  {
   "cell_type": "code",
   "execution_count": 31,
   "id": "8b202cdf-fedb-4b37-ab6d-0d6663ad9db0",
   "metadata": {},
   "outputs": [
    {
     "data": {
      "image/png": "[encoded data removed]",
      "text/plain": [
       "<Figure size 1000x600 with 1 Axes>"
      ]
     },
     "metadata": {},
     "output_type": "display_data"
    }
   ],
   "source": [
    "import matplotlib.pyplot as plt\n",
    "\n",
    "# Make predictions on the test set\n",
    "lstm_model.eval()  # Set the model to evaluation mode\n",
    "with torch.no_grad():\n",
    "    y_pred_test = lstm_model(X_test_tensor.unsqueeze(-1))\n",
    "\n",
    "# Inverse transform the predicted prices\n",
    "y_pred_test_rescaled = scaler.inverse_transform(y_pred_test.numpy().reshape(-1, 1))\n",
    "\n",
    "# Inverse transform the actual test prices for comparison\n",
    "y_test_rescaled = scaler.inverse_transform(y_test_tensor.numpy().reshape(-1, 1))\n",
    "\n",
    "# Create a DataFrame to store actual and predicted prices\n",
    "comparison_df = pd.DataFrame({\n",
    "    'Actual Price': y_test_rescaled.flatten(),\n",
    "    'Predicted Price': y_pred_test_rescaled.flatten()\n",
    "})\n",
    "\n",
    "# Plot the comparison\n",
    "plt.figure(figsize=(10, 6))\n",
    "plt.plot(comparison_df['Actual Price'], label='Actual Price')\n",
    "plt.plot(comparison_df['Predicted Price'], label='Predicted Price', linestyle='--')\n",
    "plt.title('Actual vs Predicted Stock Prices')\n",
    "plt.xlabel('Time')\n",
    "plt.ylabel('Stock Price')\n",
    "plt.legend()\n",
    "plt.show()\n"
   ]
  },
  {
   "cell_type": "code",
   "execution_count": 33,
   "id": "9ef1a2ff-183f-48c9-aa95-b3683728f81f",
   "metadata": {},
   "outputs": [
    {
     "name": "stdout",
     "output_type": "stream",
     "text": [
      "LSTM model and scaler saved successfully.\n"
     ]
    }
   ],
   "source": [
    "import joblib\n",
    "\n",
    "# Save the trained LSTM model\n",
    "joblib.dump(lstm_model, '../models/lstm_stock_model.pkl')\n",
    "\n",
    "# Save the scaler used for transforming the data\n",
    "joblib.dump(scaler, '../models/stock_scaler.pkl')\n",
    "\n",
    "print(\"LSTM model and scaler saved successfully.\")\n"
   ]
  },
  {
   "cell_type": "code",
   "execution_count": 35,
   "id": "ac12ec08-50cc-4f6f-8e6c-5d002cfdbc45",
   "metadata": {},
   "outputs": [],
   "source": [
    "torch.save(lstm_model.state_dict(), 'lstm_stock_model.pth')\n"
   ]
  },
  {
   "cell_type": "code",
   "execution_count": 37,
   "id": "5bc2031e-d7a0-416f-b7b3-41d42b4b3fbf",
   "metadata": {},
   "outputs": [],
   "source": [
    "# After training is complete, save the model's state_dict\n",
    "torch.save(lstm_model.state_dict(), '../models/lstm_stock_model.pth')\n"
   ]
  },
  {
   "cell_type": "code",
   "execution_count": 39,
   "id": "a9031756-a8c7-4d82-b590-77bdd77a2d9f",
   "metadata": {},
   "outputs": [
    {
     "name": "stdout",
     "output_type": "stream",
     "text": [
      "Model saved successfully!\n"
     ]
    }
   ],
   "source": [
    "import os\n",
    "\n",
    "# Check if the file exists\n",
    "if os.path.exists('../models/lstm_stock_model.pth'):\n",
    "    print(\"Model saved successfully!\")\n",
    "else:\n",
    "    print(\"Model save failed.\")\n"
   ]
  },
  {
   "cell_type": "code",
   "execution_count": null,
   "id": "0b6a3354-dc6f-450a-8448-37c90cf06766",
   "metadata": {},
   "outputs": [],
   "source": []
  },
  {
   "cell_type": "code",
   "execution_count": 5,
   "id": "04d70c07-93d6-4b82-96c3-35fd3e7a7676",
   "metadata": {},
   "outputs": [],
   "source": [
    "import pandas as pd\n",
    "from transformers import pipeline\n",
    "import requests"
   ]
  },
  {
   "cell_type": "code",
   "execution_count": null,
   "id": "2bb26f02-71cc-478f-8f29-c181c5382a2a",
   "metadata": {},
   "outputs": [],
   "source": []
  },
  {
   "cell_type": "code",
   "execution_count": 8,
   "id": "e4e3883c-9058-481b-b8b2-34ef7da9b6dc",
   "metadata": {},
   "outputs": [
    {
     "name": "stdout",
     "output_type": "stream",
     "text": [
      "[{'label': 'positive', 'score': 0.9993852376937866}]\n"
     ]
    }
   ],
   "source": [
    "from transformers import pipeline\n",
    "\n",
    "# Initialize the sentiment analysis pipeline with the financial model\n",
    "sentiment_pipeline = pipeline(\"sentiment-analysis\", model=\"mrm8488/distilroberta-finetuned-financial-news-sentiment-analysis\")\n",
    "\n",
    "# Test the model on some sample text\n",
    "result = sentiment_pipeline(\"The stock market is performing well today.\")\n",
    "print(result)\n"
   ]
  },
  {
   "cell_type": "code",
   "execution_count": 17,
   "id": "8e636f1f-8b9b-46bf-9dde-4a9c0f85eb64",
   "metadata": {},
   "outputs": [],
   "source": [
    "import requests\n",
    "from bs4 import BeautifulSoup\n",
    "\n",
    "url = \"https://www.cnbc.com/technology/\"\n",
    "response = requests.get(url)\n",
    "soup = BeautifulSoup(response.text, 'html.parser')\n",
    "\n",
    "# Scrape article titles\n",
    "for article in soup.find_all('a', class_='ArticleLink'):\n",
    "    print(article.text)\n"
   ]
  },
  {
   "cell_type": "code",
   "execution_count": 32,
   "id": "a6e46b0c-6d34-408b-8830-df519f0dc69f",
   "metadata": {},
   "outputs": [
    {
     "name": "stdout",
     "output_type": "stream",
     "text": [
      "Title: Bitcoin hits highest level since July, boosting other coins and crypto-related stocks\n",
      "Link: https://www.cnbc.com/2024/10/16/bitcoin-hits-highest-level-since-july-boosting-crypto-related-stocks.html\n",
      "Title: Trump-backed crypto token sale misses $300 million target, raises under $12 million\n",
      "Link: https://www.cnbc.com/2024/10/16/trump-backed-crypto-token-sale-raises-less-than-12-million.html\n",
      "Title: Amazon announces first color Kindle, available to order now and ships Oct. 30\n",
      "Link: https://www.cnbc.com/2024/10/16/amazon-announces-colorsoft-first-kindle-with-color-screen-for-279.html\n",
      "Title: ASML just gave us a first glimpse into how U.S. chip export curbs will dent its China sales\n",
      "Link: https://www.cnbc.com/2024/10/16/asml-2025-outlook-shows-us-chip-export-curbs-impacting-china-sales.html\n",
      "Title: Generative AI startups get 40% of all VC investment in cloud amid ChatGPT buzz\n",
      "Link: https://www.cnbc.com/2024/10/16/generative-ai-startups-get-40percent-of-all-vc-investment-in-cloud-accel.html\n",
      "Title: Why Big Tech is turning to nuclear to power its energy-intensive AI ambitions\n",
      "Link: https://www.cnbc.com/2024/10/15/big-tech-turns-to-nuclear-energy-to-fuel-power-intensive-ai-ambitions.html\n",
      "Title: The UAE can guarantee the 'safety and the security’ of U.S.-made chips, G42 CEO says\n",
      "Link: https://www.cnbc.com/2024/10/16/uae-has-shown-it-can-guarantee-the-safety-and-the-security-of-chips-g42-ceo-says.html\n",
      "Title: Trump PAC has raised about $7.5 million in crypto donations since early June\n",
      "Link: https://www.cnbc.com/technology/\n",
      "Title: Global chip stocks fall on ASML's disappointing outlook, possible U.S. export cap\n",
      "Link: https://www.cnbc.com/technology/\n",
      "Title: Trump's coin sale misses early targets as crypto project's website crashes\n",
      "Link: https://www.cnbc.com/technology/\n",
      "Title: Chip company ASML shares plunge 15% after company warns of weaker China sales\n",
      "Link: https://www.cnbc.com/2024/10/15/chip-firm-asml-shares-fall-12percent-after-earnings-released-earlier-than-expected.html\n",
      "Title: Apple announces new iPad mini, available to order now and in stores on Oct. 23\n",
      "Link: https://www.cnbc.com/2024/10/15/apple-new-ipad-mini-tablet.html\n",
      "Title: Amazon using tech from Khosla-backed startup to run robot warehouses at Whole Foods\n",
      "Link: https://www.cnbc.com/2024/10/15/amazon-using-tech-from-khosla-backed-fulfil-in-whole-foods-pilot.html\n",
      "Title: Harris PAC's $1 million contribution from Ripple co-founder shows crypto warming to VP\n",
      "Link: https://www.cnbc.com/technology/\n",
      "Title: Oura Ring 4 is sleek and easy to wear but scratches easily\n",
      "Link: https://www.cnbc.com/technology/\n",
      "Title: Xpeng president says Chinese EV firm remains committed to Europe despite tariffs\n",
      "Link: https://www.cnbc.com/technology/\n",
      "Title: Trump's crypto coin goes on sale with Election Day just three weeks out\n",
      "Link: https://www.cnbc.com/2024/10/14/trump-crypto-coin-world-liberty-election-harris.html\n",
      "Title: Nvidia closes at record as AI chipmaker's market cap tops $3.4 trillion\n",
      "Link: https://www.cnbc.com/2024/10/14/nvidia-shares-hit-a-record-as-chipmaker-market-cap-tops-3point4-trillion.html\n",
      "Title: ServiceNow, Coreweave and others to invest $8.2 billion in UK data centers\n",
      "Link: https://www.cnbc.com/2024/10/14/servicenow-to-invest-1point5-billion-in-uk-to-localize-ai-data-processing.html\n",
      "Title: Stripe, Wise founders want Europe 'tech renaissance' to rival Silicon Valley\n",
      "Link: https://www.cnbc.com/technology/\n",
      "Title: What internet data brokers have on you — and how you can start to get it back\n",
      "Link: https://www.cnbc.com/cyber-report/\n",
      "Title: Cerebras has 'too much hair' as company sells Wall Street on Nvidia alternative\n",
      "Link: https://www.cnbc.com/ai-effect/\n",
      "Title: Nvidia-backed CoreWeave gets $650 million credit line from top Wall Street banks\n",
      "Link: https://www.cnbc.com/2024/10/11/nvidia-backed-coreweave-picks-up-650-million-credit-line.html\n",
      "Title: Tesla shares drop 9% after Cybercab robotaxi reveal 'underwhelmed' investors\n",
      "Link: https://www.cnbc.com/2024/10/11/tesla-tsla-stock-drops-in-premarket-after-cybercab-robotaxi-reveal.html\n",
      "Title: Salesforce's UK chief: Government shouldn't regulate all AI companies the same\n",
      "Link: https://www.cnbc.com/2024/10/11/salesforce-uk-boss-labour-shouldnt-treat-all-ai-firms-the-same.html\n",
      "Title: Elon Musk hypes $30,000 Tesla Cybercab and larger Robovan at robotaxi event\n",
      "Link: https://www.cnbc.com/technology/\n",
      "Title: Microsoft will let people buy games through Xbox app on Android in November\n",
      "Link: https://www.cnbc.com/technology/\n",
      "Title: Tesla robotaxi event comes after a decade of Elon Musk's driverless dreams\n",
      "Link: https://www.cnbc.com/technology/\n",
      "Title: AMD launches AI chip to rival Nvidia's Blackwell \n",
      "Link: https://www.cnbc.com/2024/10/10/amd-launches-mi325x-ai-chip-to-rival-nvidias-blackwell-.html\n",
      "Title: Microsoft announces new AI tools to help ease workload for doctors and nurses\n",
      "Link: https://www.cnbc.com/2024/10/10/microsoft-announces-new-health-care-ai-tools.html\n",
      "Title: OpenAI Chair Bret Taylor talks AI agents, regulation and the technology's current boom\n",
      "Link: https://www.cnbc.com/2024/10/10/openai-chair-bret-taylor-talks-ai-agents-regulation-and-the-techs-current-boom.html\n",
      "Title: Zuckerberg's metaverse is finally showing signs of life, but it's not from VR\n",
      "Link: https://www.cnbc.com/ai-effect/\n",
      "Title: Ripple launches new crypto storage services for banks, fintechs in bid to diversify\n",
      "Link: https://www.cnbc.com/technology/\n",
      "Title: Amazon cashierless tech competitor Grabango shutters after failing to secure funding\n",
      "Link: https://www.cnbc.com/technology/\n"
     ]
    }
   ],
   "source": [
    "import requests\n",
    "from bs4 import BeautifulSoup\n",
    "\n",
    "# URL der Nachrichtenquelle\n",
    "url = \"https://www.cnbc.com/technology/\"\n",
    "\n",
    "# Anfrage an die Webseite stellen\n",
    "response = requests.get(url)\n",
    "\n",
    "# Den HTML-Inhalt mit BeautifulSoup analysieren\n",
    "soup = BeautifulSoup(response.text, 'html.parser')\n",
    "\n",
    "# Versuche alternative Tags zu finden\n",
    "articles = soup.find_all('div', class_='Card-standardBreakerCard')\n",
    "\n",
    "# Artikel-Titel und Links ausgeben\n",
    "for article in articles:\n",
    "    title_tag = article.find('a', class_='Card-title')\n",
    "    if title_tag:  # Überprüfen, ob ein Titel vorhanden ist\n",
    "        title = title_tag.text\n",
    "        link = article.find('a')['href']\n",
    "        print(f\"Title: {title}\")\n",
    "        print(f\"Link: {link}\")\n"
   ]
  },
  {
   "cell_type": "code",
   "execution_count": 34,
   "id": "b1f5b47e-4341-454d-b6a0-d0dd2d4c8637",
   "metadata": {},
   "outputs": [
    {
     "name": "stdout",
     "output_type": "stream",
     "text": [
      "Article: Bitcoin hits highest level since July, boosting other coins and crypto-related stocks => Sentiment: positive (Score: 1.00)\n",
      "Article: Trump-backed crypto token sale misses $300 million target, raises under $12 million => Sentiment: negative (Score: 1.00)\n",
      "Article: Amazon announces first color Kindle, available to order now and ships Oct. 30 => Sentiment: neutral (Score: 1.00)\n",
      "Article: ASML just gave us a first glimpse into how U.S. chip export curbs will dent its China sales => Sentiment: negative (Score: 1.00)\n",
      "Article: Generative AI startups get 40% of all VC investment in cloud amid ChatGPT buzz => Sentiment: neutral (Score: 1.00)\n",
      "Article: Why Big Tech is turning to nuclear to power its energy-intensive AI ambitions => Sentiment: neutral (Score: 1.00)\n",
      "Article: The UAE can guarantee the 'safety and the security’ of U.S.-made chips, G42 CEO says => Sentiment: neutral (Score: 0.98)\n",
      "Article: Trump PAC has raised about $7.5 million in crypto donations since early June => Sentiment: neutral (Score: 1.00)\n"
     ]
    }
   ],
   "source": [
    "from transformers import pipeline\n",
    "\n",
    "# Sentiment-Analyse Pipeline initialisieren\n",
    "sentiment_pipeline = pipeline(\"sentiment-analysis\", model=\"mrm8488/distilroberta-finetuned-financial-news-sentiment-analysis\")\n",
    "\n",
    "# Liste mit den gesammelten Artikeltiteln\n",
    "articles = [\n",
    "    \"Bitcoin hits highest level since July, boosting other coins and crypto-related stocks\",\n",
    "    \"Trump-backed crypto token sale misses $300 million target, raises under $12 million\",\n",
    "    \"Amazon announces first color Kindle, available to order now and ships Oct. 30\",\n",
    "    \"ASML just gave us a first glimpse into how U.S. chip export curbs will dent its China sales\",\n",
    "    \"Generative AI startups get 40% of all VC investment in cloud amid ChatGPT buzz\",\n",
    "    \"Why Big Tech is turning to nuclear to power its energy-intensive AI ambitions\",\n",
    "    \"The UAE can guarantee the 'safety and the security’ of U.S.-made chips, G42 CEO says\",\n",
    "    \"Trump PAC has raised about $7.5 million in crypto donations since early June\"\n",
    "]\n",
    "\n",
    "# Sentiment-Analyse auf die Artikel anwenden\n",
    "for article in articles:\n",
    "    result = sentiment_pipeline(article)\n",
    "    print(f\"Article: {article} => Sentiment: {result[0]['label']} (Score: {result[0]['score']:.2f})\")\n"
   ]
  },
  {
   "cell_type": "code",
   "execution_count": 50,
   "id": "28cd180d-03d3-4ad1-b89a-337b6f9c7a04",
   "metadata": {},
   "outputs": [
    {
     "name": "stderr",
     "output_type": "stream",
     "text": [
      "[*********************100%***********************]  1 of 1 completed"
     ]
    },
    {
     "name": "stdout",
     "output_type": "stream",
     "text": [
      "                 Close\n",
      "Date                  \n",
      "2023-01-01  144.289993\n",
      "2023-02-01  147.410004\n",
      "2023-03-01  164.899994\n",
      "2023-04-01  169.679993\n",
      "2023-05-01  177.250000\n",
      "2023-06-01  193.970001\n",
      "2023-07-01  196.449997\n",
      "2023-08-01  187.869995\n",
      "2023-09-01  171.210007\n",
      "2023-10-01  170.770004\n",
      "2023-11-01  189.949997\n",
      "2023-12-01  192.529999\n"
     ]
    },
    {
     "name": "stderr",
     "output_type": "stream",
     "text": [
      "\n"
     ]
    }
   ],
   "source": [
    "import yfinance as yf\n",
    "\n",
    "# Fetch the data for Apple stock on a monthly interval\n",
    "data = yf.download(\"AAPL\", start=\"2023-01-01\", end=\"2023-12-31\", interval=\"1mo\")\n",
    "\n",
    "# Show the data (just closing prices)\n",
    "print(data[['Close']])\n"
   ]
  },
  {
   "cell_type": "code",
   "execution_count": 52,
   "id": "fcfc2ff3-6a81-4ed0-8979-f053126a4003",
   "metadata": {},
   "outputs": [
    {
     "name": "stdout",
     "output_type": "stream",
     "text": [
      "         Month                                            Article Sentiment  \\\n",
      "0   2023-01-01              Bitcoin hits highest level since July  positive   \n",
      "1   2023-02-01  Trump-backed crypto token sale misses $300 mil...  negative   \n",
      "2   2023-03-01                Amazon announces first color Kindle   neutral   \n",
      "3   2023-04-01  ASML just gave us a first glimpse into U.S. ch...  negative   \n",
      "4   2023-05-01  Generative AI startups get 40% of all VC inves...   neutral   \n",
      "5   2023-06-01  Why Big Tech is turning to nuclear for AI ambi...   neutral   \n",
      "6   2023-07-01  The UAE can guarantee the safety of U.S.-made ...   neutral   \n",
      "7   2023-08-01  Trump PAC has raised about $7.5 million in cry...   neutral   \n",
      "8   2023-09-01          Global chip stocks fall on ASML's decline  negative   \n",
      "9   2023-10-01       Amazon reaches new heights with online sales   neutral   \n",
      "10  2023-11-01  Major AI breakthroughs accelerate tech industr...  positive   \n",
      "11  2023-12-01            Apple announces record-breaking profits  positive   \n",
      "\n",
      "    Stock Price  \n",
      "0    144.289993  \n",
      "1    147.410004  \n",
      "2    164.899994  \n",
      "3    169.679993  \n",
      "4    177.250000  \n",
      "5    193.970001  \n",
      "6    196.449997  \n",
      "7    187.869995  \n",
      "8    171.210007  \n",
      "9    170.770004  \n",
      "10   189.949997  \n",
      "11   192.529999  \n"
     ]
    },
    {
     "data": {
      "image/png": "[encoded data removed]",
      "text/plain": [
       "<Figure size 1200x600 with 1 Axes>"
      ]
     },
     "metadata": {},
     "output_type": "display_data"
    },
    {
     "name": "stdout",
     "output_type": "stream",
     "text": [
      "Correlation between Sentiment and Stock Price: 0.2699374404992656\n"
     ]
    }
   ],
   "source": [
    "import pandas as pd\n",
    "import matplotlib.pyplot as plt\n",
    "\n",
    "# Real stock prices for each month\n",
    "stock_prices = [144.289993, 147.410004, 164.899994, 169.679993, 177.250000, \n",
    "                193.970001, 196.449997, 187.869995, 171.210007, 170.770004, \n",
    "                189.949997, 192.529999]\n",
    "\n",
    "# Corresponding months\n",
    "months = [\n",
    "    \"2023-01-01\", \"2023-02-01\", \"2023-03-01\", \"2023-04-01\",\n",
    "    \"2023-05-01\", \"2023-06-01\", \"2023-07-01\", \"2023-08-01\",\n",
    "    \"2023-09-01\", \"2023-10-01\", \"2023-11-01\", \"2023-12-01\"\n",
    "]\n",
    "\n",
    "# Example articles and sentiment for each month (adjust to your specific dataset)\n",
    "articles = [\n",
    "    \"Bitcoin hits highest level since July\", \n",
    "    \"Trump-backed crypto token sale misses $300 million target\", \n",
    "    \"Amazon announces first color Kindle\", \n",
    "    \"ASML just gave us a first glimpse into U.S. chip export curbs\", \n",
    "    \"Generative AI startups get 40% of all VC investment\", \n",
    "    \"Why Big Tech is turning to nuclear for AI ambitions\", \n",
    "    \"The UAE can guarantee the safety of U.S.-made chips\", \n",
    "    \"Trump PAC has raised about $7.5 million in crypto donations\",\n",
    "    \"Global chip stocks fall on ASML's decline\",\n",
    "    \"Amazon reaches new heights with online sales\",\n",
    "    \"Major AI breakthroughs accelerate tech industry growth\",\n",
    "    \"Apple announces record-breaking profits\"\n",
    "]\n",
    "\n",
    "sentiments = [\"positive\", \"negative\", \"neutral\", \"negative\", \"neutral\", \n",
    "              \"neutral\", \"neutral\", \"neutral\", \"negative\", \"neutral\", \n",
    "              \"positive\", \"positive\"]\n",
    "\n",
    "# Creating a DataFrame for stock prices and sentiments\n",
    "data = {\n",
    "    \"Month\": months,\n",
    "    \"Article\": articles,\n",
    "    \"Sentiment\": sentiments,\n",
    "    \"Stock Price\": stock_prices\n",
    "}\n",
    "\n",
    "df = pd.DataFrame(data)\n",
    "\n",
    "# Display DataFrame\n",
    "print(df)\n",
    "\n",
    "# Visualization: Stock Prices vs Sentiment Analysis\n",
    "plt.figure(figsize=(12, 6))\n",
    "plt.bar(df[\"Month\"], df[\"Stock Price\"], color=['green' if s == 'positive' else 'red' if s == 'negative' else 'gray' for s in df[\"Sentiment\"]])\n",
    "plt.xticks(rotation=90)\n",
    "plt.xlabel(\"Month\")\n",
    "plt.ylabel(\"Stock Price\")\n",
    "plt.title(\"Stock Prices vs Sentiment Analysis\")\n",
    "plt.show()\n",
    "\n",
    "# Calculate correlation between sentiment and stock price\n",
    "df['Sentiment_Score'] = df['Sentiment'].map({'positive': 1, 'neutral': 0, 'negative': -1})\n",
    "correlation = df['Sentiment_Score'].corr(df['Stock Price'])\n",
    "print(f\"Correlation between Sentiment and Stock Price: {correlation}\")\n"
   ]
  },
  {
   "cell_type": "code",
   "execution_count": 54,
   "id": "9ae1adf5-b92e-4e1b-a09b-5ea1c7697ee9",
   "metadata": {},
   "outputs": [
    {
     "name": "stdout",
     "output_type": "stream",
     "text": [
      "CSV file created successfully!\n"
     ]
    }
   ],
   "source": [
    "import pandas as pd\n",
    "\n",
    "# Data for sentiment analysis results\n",
    "data = {\n",
    "    'Date': ['2023-10-10', '2023-10-11', '2023-10-12'],\n",
    "    'Article': [\n",
    "        \"Bitcoin hits highest level since July\",\n",
    "        \"Trump-backed crypto token sale misses $300 million target\",\n",
    "        \"Amazon announces first color Kindle\"\n",
    "    ],\n",
    "    'Sentiment': ['positive', 'negative', 'neutral'],\n",
    "    'Score': [1.00, 1.00, 1.00]\n",
    "}\n",
    "\n",
    "# Create a DataFrame\n",
    "df = pd.DataFrame(data)\n",
    "\n",
    "# Save the DataFrame to a CSV file\n",
    "df.to_csv('sentiment_analysis_results.csv', index=False)\n",
    "\n",
    "print(\"CSV file created successfully!\")\n"
   ]
  },
  {
   "cell_type": "code",
   "execution_count": 58,
   "id": "a7f4c8cb-3bac-44ca-a0ae-0a5e24cac689",
   "metadata": {},
   "outputs": [
    {
     "name": "stdout",
     "output_type": "stream",
     "text": [
      "Database and table created successfully.\n"
     ]
    }
   ],
   "source": [
    "import sqlite3\n",
    "\n",
    "# Connect to the SQLite database (creates the file if it doesn't exist)\n",
    "connection = sqlite3.connect('stock_sentiment.db')\n",
    "\n",
    "# Create a cursor object to execute SQL commands\n",
    "cursor = connection.cursor()\n",
    "\n",
    "# Create a table for storing stock prices and sentiment analysis\n",
    "cursor.execute('''\n",
    "    CREATE TABLE IF NOT EXISTS StockSentiment (\n",
    "        id INTEGER PRIMARY KEY AUTOINCREMENT,\n",
    "        article TEXT,\n",
    "        sentiment TEXT,\n",
    "        score REAL,\n",
    "        stock_price REAL,\n",
    "        month TEXT\n",
    "    )\n",
    "''')\n",
    "\n",
    "# Save the changes and close the connection\n",
    "connection.commit()\n",
    "connection.close()\n",
    "\n",
    "print(\"Database and table created successfully.\")\n"
   ]
  },
  {
   "cell_type": "code",
   "execution_count": 62,
   "id": "579ffffc-1fbc-433b-9fd2-952577b6054b",
   "metadata": {},
   "outputs": [
    {
     "name": "stdout",
     "output_type": "stream",
     "text": [
      "Data inserted successfully!\n"
     ]
    }
   ],
   "source": [
    "import sqlite3\n",
    "\n",
    "# Connect to the SQLite database\n",
    "connection = sqlite3.connect('stock_sentiment.db')\n",
    "\n",
    "# Create a cursor object to execute SQL commands\n",
    "cursor = connection.cursor()\n",
    "\n",
    "# Data to insert (your articles, sentiments, scores, stock prices, and months)\n",
    "data = [\n",
    "    (\"Bitcoin hits highest level since July\", \"positive\", 1.00, 144.29, \"2023-01-01\"),\n",
    "    (\"Trump-backed crypto token sale misses $300 million target\", \"negative\", 1.00, 147.41, \"2023-02-01\"),\n",
    "    (\"Amazon announces first color Kindle\", \"neutral\", 1.00, 164.89, \"2023-03-01\"),\n",
    "    (\"ASML just gave us a first glimpse into U.S. chip export curbs\", \"negative\", 1.00, 169.68, \"2023-04-01\"),\n",
    "    (\"Generative AI startups get 40% of all VC investment\", \"neutral\", 1.00, 177.25, \"2023-05-01\"),\n",
    "    (\"Why Big Tech is turning to nuclear for AI ambitions\", \"neutral\", 1.00, 193.97, \"2023-06-01\"),\n",
    "    (\"The UAE can guarantee the safety of U.S.-made chips\", \"neutral\", 0.98, 196.45, \"2023-07-01\"),\n",
    "    (\"Trump PAC has raised about $7.5 million in crypto donations\", \"neutral\", 1.00, 187.86, \"2023-08-01\")\n",
    "]\n",
    "\n",
    "# SQL query to insert data into the StockSentiment table\n",
    "insert_query = '''\n",
    "INSERT INTO StockSentiment (article, sentiment, score, stock_price, month)\n",
    "VALUES (?, ?, ?, ?, ?)\n",
    "'''\n",
    "\n",
    "# Insert data into the table\n",
    "cursor.executemany(insert_query, data)\n",
    "\n",
    "# Commit the changes to save them in the database\n",
    "connection.commit()\n",
    "\n",
    "# Close the connection\n",
    "connection.close()\n",
    "\n",
    "print(\"Data inserted successfully!\")\n"
   ]
  },
  {
   "cell_type": "code",
   "execution_count": 64,
   "id": "65f63d91-af0e-449d-bd69-a77b99c3593e",
   "metadata": {},
   "outputs": [
    {
     "name": "stdout",
     "output_type": "stream",
     "text": [
      "(1, 'Bitcoin hits highest level since July', 'positive', 1.0, 144.29, '2023-01-01')\n",
      "(2, 'Trump-backed crypto token sale misses $300 million target', 'negative', 1.0, 147.41, '2023-02-01')\n",
      "(3, 'Amazon announces first color Kindle', 'neutral', 1.0, 164.89, '2023-03-01')\n",
      "(4, 'ASML just gave us a first glimpse into U.S. chip export curbs', 'negative', 1.0, 169.68, '2023-04-01')\n",
      "(5, 'Generative AI startups get 40% of all VC investment', 'neutral', 1.0, 177.25, '2023-05-01')\n",
      "(6, 'Why Big Tech is turning to nuclear for AI ambitions', 'neutral', 1.0, 193.97, '2023-06-01')\n",
      "(7, 'The UAE can guarantee the safety of U.S.-made chips', 'neutral', 0.98, 196.45, '2023-07-01')\n",
      "(8, 'Trump PAC has raised about $7.5 million in crypto donations', 'neutral', 1.0, 187.86, '2023-08-01')\n"
     ]
    }
   ],
   "source": [
    "import sqlite3\n",
    "\n",
    "# Connect to the SQLite database\n",
    "connection = sqlite3.connect('stock_sentiment.db')\n",
    "\n",
    "# Create a cursor object to execute SQL commands\n",
    "cursor = connection.cursor()\n",
    "\n",
    "# Query the StockSentiment table\n",
    "cursor.execute(\"SELECT * FROM StockSentiment\")\n",
    "\n",
    "# Fetch all the results\n",
    "rows = cursor.fetchall()\n",
    "\n",
    "# Print the results\n",
    "for row in rows:\n",
    "    print(row)\n",
    "\n",
    "# Close the connection\n",
    "connection.close()\n"
   ]
  },
  {
   "cell_type": "markdown",
   "id": "1a8d6282-ada6-431d-b56f-a7a57c680008",
   "metadata": {},
   "source": [
    "## Real-time Stock Data Integration"
   ]
  },
  {
   "cell_type": "code",
   "execution_count": null,
   "id": "d5d278ee-0265-46c1-8440-4499785e21b1",
   "metadata": {},
   "outputs": [],
   "source": [
    "import yfinance as yf\n",
    "import sqlite3\n",
    "import time\n",
    "\n",
    "# Define a function to get the latest stock data\n",
    "def get_stock_data(symbol):\n",
    "    stock_data = yf.download(tickers=symbol, period=\"1d\", interval=\"1m\")  # Get 1-day data with 1-minute intervals\n",
    "    return stock_data['Close'].iloc[-1]  # Return the most recent closing price\n",
    "\n",
    "# SQLite connection\n",
    "connection = sqlite3.connect('stock_sentiment.db')\n",
    "cursor = connection.cursor()\n",
    "\n",
    "# Function to insert stock price into the database\n",
    "def insert_stock_data(symbol, price, month):\n",
    "    insert_query = '''INSERT INTO StockSentiment (article, sentiment, score, stock_price, month)\n",
    "                      VALUES (?, ?, ?, ?, ?)'''\n",
    "    data = (\"Real-time Stock\", \"neutral\", 0, price, month)\n",
    "    cursor.execute(insert_query, data)\n",
    "    connection.commit()\n",
    "\n",
    "# Fetch and store stock prices every minute (as an example)\n",
    "while True:\n",
    "    latest_price = get_stock_data('AAPL')  # Fetch real-time stock price for Apple\n",
    "    current_month = time.strftime('%Y-%m-%d')  # Get the current date\n",
    "    insert_stock_data('AAPL', latest_price, current_month)\n",
    "    print(f\"Inserted real-time stock price: {latest_price}\")\n",
    "    time.sleep(3600)  # Fetch every 3600 seconds\n"
   ]
  },
  {
   "cell_type": "code",
   "execution_count": null,
   "id": "6e4398c2-f111-40e7-b28d-3b3d885055ab",
   "metadata": {},
   "outputs": [],
   "source": []
  },
  {
   "cell_type": "code",
   "execution_count": null,
   "id": "07969b00-dd50-436a-a694-15c678bb8c3b",
   "metadata": {},
   "outputs": [],
   "source": []
  },
  {
   "cell_type": "code",
   "execution_count": null,
   "id": "63832d74-ccee-4d7f-921c-add934f438e4",
   "metadata": {},
   "outputs": [],
   "source": [
    " import yfinance as yf\n",
    "import sqlite3\n",
    "import requests\n",
    "import time\n",
    "from transformers import pipeline\n",
    "import pandas as pd\n",
    "\n",
    "# Initialize the sentiment analysis pipeline\n",
    "sentiment_pipeline = pipeline(\"sentiment-analysis\", model=\"mrm8488/distilroberta-finetuned-financial-news-sentiment-analysis\")\n",
    "\n",
    "# Function to fetch the latest stock price\n",
    "def get_stock_data(symbol):\n",
    "    stock_data = yf.download(tickers=symbol, period=\"1d\", interval=\"1m\")  # Get 1-day data with 1-minute intervals\n",
    "    return stock_data['Close'].iloc[-1]  # Return the most recent closing price\n",
    "\n",
    "# Function to fetch the latest news articles\n",
    "def fetch_news(company):\n",
    "    url = f\"https://newsapi.org/v2/everything?q={company}&apiKey=YOUR_NEWSAPI_KEY\"\n",
    "    response = requests.get(url)\n",
    "    news_data = response.json()\n",
    "    return news_data.get('articles', [])\n",
    "\n",
    "# Function to perform sentiment analysis on news articles\n",
    "def analyze_sentiment(article_text):\n",
    "    result = sentiment_pipeline(article_text)[0]\n",
    "    return result['label'], result['score']\n",
    "\n",
    "# Connect to the SQLite database (creates the file if it doesn't exist)\n",
    "connection = sqlite3.connect('stock_sentiment.db')\n",
    "cursor = connection.cursor()\n",
    "\n",
    "# SQL query to insert data into the StockSentiment table\n",
    "insert_query = '''\n",
    "INSERT INTO StockSentiment (article, sentiment, score, stock_price, date, time)\n",
    "VALUES (?, ?, ?, ?, ?, ?)\n",
    "'''\n",
    "\n",
    "# Create a list to store the data for the CSV file\n",
    "data_for_csv = []\n",
    "\n",
    "# Fetch real-time stock prices and news sentiments multiple times\n",
    "for i in range(10):  # Increase this number for more rows\n",
    "    # Fetch the stock price for Apple\n",
    "    stock_price = get_stock_data('AAPL')\n",
    "    current_date = time.strftime('%Y-%m-%d')\n",
    "    current_time = time.strftime('%H:%M:%S')\n",
    "\n",
    "    # Fetch news articles and perform sentiment analysis\n",
    "    articles = fetch_news('Apple')\n",
    "    for article in articles[:5]:  # Limit to the first 5 articles (adjust as needed)\n",
    "        title = article['title']\n",
    "        sentiment, score = analyze_sentiment(title)\n",
    "\n",
    "        # Insert the stock price and news sentiment into the database\n",
    "        cursor.execute(insert_query, (title, sentiment, score, stock_price, current_date, current_time))\n",
    "        connection.commit()\n",
    "\n",
    "        # Add the data to the list for CSV creation\n",
    "        data_for_csv.append({\n",
    "            'Stock Symbol': 'AAPL',\n",
    "            'Stock Price': stock_price,\n",
    "            'Date': current_date,\n",
    "            'Time': current_time,\n",
    "            'Sentiment': sentiment,\n",
    "            'Article Title': title\n",
    "        })\n",
    "\n",
    "    # Pause before the next round (e.g., every hour)\n",
    "    time.sleep(3600)  # Fetch data every hour (3600 seconds)\n",
    "\n",
    "# Save the data to a CSV file for Tableau\n",
    "df = pd.DataFrame(data_for_csv)\n",
    "df.to_csv('real_time_stock_sentiment.csv', index=False)\n",
    "\n",
    "print(\"CSV file created successfully!\")\n"
   ]
  },
  {
   "cell_type": "markdown",
   "id": "dc9e9b25-966b-4b8b-8981-7db8a0096c9f",
   "metadata": {},
   "source": [
    "## Real-time News Sentiment Integration"
   ]
  },
  {
   "cell_type": "code",
   "execution_count": null,
   "id": "49714e93-94df-4b86-8254-47f6501afc2c",
   "metadata": {},
   "outputs": [],
   "source": [
    "import requests\n",
    "import sqlite3\n",
    "from transformers import pipeline\n",
    "\n",
    "# Your NewsAPI key\n",
    "api_key = 'YOUR_NEWSAPI_KEY'\n",
    "\n",
    "# Function to fetch news articles\n",
    "def fetch_news(company):\n",
    "    url = f\"https://newsapi.org/v2/everything?q={company}&apiKey={api_key}\"\n",
    "    response = requests.get(url)\n",
    "    news_data = response.json()\n",
    "    return news_data.get('articles', [])\n",
    "\n",
    "# Function to perform sentiment analysis on news articles\n",
    "def analyze_sentiment(article_text):\n",
    "    sentiment_pipeline = pipeline(\"sentiment-analysis\", model=\"mrm8488/distilroberta-finetuned-financial-news-sentiment-analysis\")\n",
    "    result = sentiment_pipeline(article_text)[0]\n",
    "    return result['label'], result['score']\n",
    "\n",
    "# SQLite connection\n",
    "connection = sqlite3.connect('stock_sentiment.db')\n",
    "cursor = connection.cursor()\n",
    "\n",
    "# Fetch news articles and perform sentiment analysis\n",
    "articles = fetch_news('Apple')\n",
    "for article in articles:\n",
    "    title = article['title']\n",
    "    sentiment, score = analyze_sentiment(title)\n",
    "    stock_price = None  # Stock price can be fetched separately using the methods above\n",
    "    current_month = time.strftime('%Y-%m-%d')\n",
    "\n",
    "    # Insert the news and sentiment into the database\n",
    "    insert_query = '''INSERT INTO StockSentiment (article, sentiment, score, stock_price, month)\n",
    "                      VALUES (?, ?, ?, ?, ?)'''\n",
    "    data = (title, sentiment, score, stock_price, current_month)\n",
    "    cursor.execute(insert_query, data)\n",
    "    connection.commit()\n",
    "\n",
    "    print(f\"Inserted article: {title} with sentiment {sentiment} and score {score}\")\n"
   ]
  },
  {
   "cell_type": "markdown",
   "id": "9e1749f2-4c8c-4376-a43d-cf6142be3f95",
   "metadata": {},
   "source": [
    "## Combining Real-time Stock Data and News Sentiment\n"
   ]
  },
  {
   "cell_type": "code",
   "execution_count": null,
   "id": "7ee5d819-9b8d-4ccc-b044-571b7ac164fc",
   "metadata": {},
   "outputs": [],
   "source": [
    "import time\n",
    "\n",
    "while True:\n",
    "   # Fetch real-time stock price\n",
    "   latest_price = get_stock_data('AAPL')\n",
    "   \n",
    "   # Fetch and analyze latest news\n",
    "   articles = fetch_news('Apple')\n",
    "   for article in articles:\n",
    "       title = article['title']\n",
    "       sentiment, score = analyze_sentiment(title)\n",
    "       current_month = time.strftime('%Y-%m-%d')\n",
    "       \n",
    "       # Insert both stock price and news sentiment into the database\n",
    "       insert_query = '''INSERT INTO StockSentiment (article, sentiment, score, stock_price, month)\n",
    "                         VALUES (?, ?, ?, ?, ?)'''\n",
    "       data = (title, sentiment, score, latest_price, current_month)\n",
    "       cursor.execute(insert_query, data)\n",
    "       connection.commit()\n",
    "\n",
    "       print(f\"Inserted real-time data: Stock Price: {latest_price}, Article: {title}, Sentiment: {sentiment}\")\n",
    "   \n",
    "   time.sleep(3600)  # Fetch data every hour\n"
   ]
  },
  {
   "cell_type": "code",
   "execution_count": 3,
   "id": "8aca4072-e150-4883-8bc0-9ca07a4b24cf",
   "metadata": {},
   "outputs": [
    {
     "name": "stderr",
     "output_type": "stream",
     "text": [
      "[*********************100%***********************]  1 of 1 completed\n"
     ]
    },
    {
     "name": "stdout",
     "output_type": "stream",
     "text": [
      "No data to save in CSV.\n"
     ]
    },
    {
     "ename": "KeyboardInterrupt",
     "evalue": "",
     "output_type": "error",
     "traceback": [
      "\u001b[0;31m---------------------------------------------------------------------------\u001b[0m",
      "\u001b[0;31mKeyboardInterrupt\u001b[0m                         Traceback (most recent call last)",
      "Cell \u001b[0;32mIn[3], line 97\u001b[0m\n\u001b[1;32m     94\u001b[0m         \u001b[38;5;28mprint\u001b[39m(\u001b[38;5;124m\"\u001b[39m\u001b[38;5;124mNo data to save in CSV.\u001b[39m\u001b[38;5;124m\"\u001b[39m)\n\u001b[1;32m     96\u001b[0m     \u001b[38;5;66;03m# Pause for 1 minute before the next round\u001b[39;00m\n\u001b[0;32m---> 97\u001b[0m     time\u001b[38;5;241m.\u001b[39msleep(\u001b[38;5;241m60\u001b[39m)\n\u001b[1;32m     99\u001b[0m \u001b[38;5;66;03m# Close the database connection\u001b[39;00m\n\u001b[1;32m    100\u001b[0m connection\u001b[38;5;241m.\u001b[39mclose()\n",
      "\u001b[0;31mKeyboardInterrupt\u001b[0m: "
     ]
    }
   ],
   "source": [
    "import yfinance as yf\n",
    "import sqlite3\n",
    "import requests\n",
    "import time\n",
    "from transformers import pipeline\n",
    "import pandas as pd\n",
    "\n",
    "# Initialize the sentiment analysis pipeline\n",
    "sentiment_pipeline = pipeline(\"sentiment-analysis\", model=\"mrm8488/distilroberta-finetuned-financial-news-sentiment-analysis\")\n",
    "\n",
    "# Function to fetch the latest stock price\n",
    "def get_stock_data(symbol):\n",
    "    try:\n",
    "        stock_data = yf.download(tickers=symbol, period=\"1d\", interval=\"1m\")  # Get 1-day data with 1-minute intervals\n",
    "        return stock_data['Close'].iloc[-1]  # Return the most recent closing price\n",
    "    except Exception as e:\n",
    "        print(f\"Error fetching stock data: {e}\")\n",
    "        return None\n",
    "\n",
    "# Function to fetch the latest news articles\n",
    "def fetch_news(company):\n",
    "    try:\n",
    "        url = f\"https://newsapi.org/v2/everything?q={company}&apiKey=YOUR_NEWSAPI_KEY\"\n",
    "        response = requests.get(url)\n",
    "        news_data = response.json()\n",
    "        return news_data.get('articles', [])\n",
    "    except Exception as e:\n",
    "        print(f\"Error fetching news data: {e}\")\n",
    "        return []\n",
    "\n",
    "# Function to perform sentiment analysis on news articles\n",
    "def analyze_sentiment(article_text):\n",
    "    try:\n",
    "        result = sentiment_pipeline(article_text)[0]\n",
    "        return result['label'], result['score']\n",
    "    except Exception as e:\n",
    "        print(f\"Error during sentiment analysis: {e}\")\n",
    "        return \"unknown\", 0.0\n",
    "\n",
    "# Connect to the SQLite database (creates the file if it doesn't exist)\n",
    "connection = sqlite3.connect('stock_sentiment.db')\n",
    "cursor = connection.cursor()\n",
    "\n",
    "# SQL query to insert data into the StockSentiment table\n",
    "insert_query = '''\n",
    "INSERT INTO StockSentiment (article, sentiment, score, stock_price, date, time)\n",
    "VALUES (?, ?, ?, ?, ?, ?)\n",
    "'''\n",
    "\n",
    "# Create a list to store the data for the CSV file\n",
    "data_for_csv = []\n",
    "\n",
    "# Fetch real-time stock prices and news sentiments multiple times\n",
    "for i in range(10):  # Adjust this number for more rows\n",
    "    # Fetch the stock price for Apple\n",
    "    stock_price = get_stock_data('AAPL')\n",
    "    \n",
    "    if stock_price is None:\n",
    "        print(\"Skipping iteration due to stock data fetch error.\")\n",
    "        continue\n",
    "\n",
    "    current_date = time.strftime('%Y-%m-%d')\n",
    "    current_time = time.strftime('%H:%M:%S')\n",
    "\n",
    "    # Fetch news articles and perform sentiment analysis\n",
    "    articles = fetch_news('Apple')\n",
    "    for article in articles[:5]:  # Limit to the first 5 articles (adjust as needed)\n",
    "        title = article['title']\n",
    "        sentiment, score = analyze_sentiment(title)\n",
    "\n",
    "        # Insert the stock price and news sentiment into the database\n",
    "        cursor.execute(insert_query, (title, sentiment, score, stock_price, current_date, current_time))\n",
    "        connection.commit()\n",
    "\n",
    "        # Add the data to the list for CSV creation\n",
    "        data_for_csv.append({\n",
    "            'Stock Symbol': 'AAPL',\n",
    "            'Stock Price': stock_price,\n",
    "            'Date': current_date,\n",
    "            'Time': current_time,\n",
    "            'Sentiment': sentiment,\n",
    "            'Article Title': title\n",
    "        })\n",
    "\n",
    "        # Print progress\n",
    "        print(f\"Inserted real-time data: Stock Price: {stock_price}, Article: {title}, Sentiment: {sentiment}\")\n",
    "\n",
    "    # Save the data to a CSV file after each loop\n",
    "    if len(data_for_csv) > 0:\n",
    "        df = pd.DataFrame(data_for_csv)\n",
    "        df.to_csv('../Data/real_time_stock_sentiment.csv', index=False)\n",
    "        print(\"CSV file updated successfully!\")\n",
    "    else:\n",
    "        print(\"No data to save in CSV.\")\n",
    "\n",
    "    # Pause for 1 minute before the next round\n",
    "    time.sleep(60)\n",
    "\n",
    "# Close the database connection\n",
    "connection.close()\n"
   ]
  },
  {
   "cell_type": "code",
   "execution_count": null,
   "id": "f22e4de0-5efd-43fe-8428-6277a0bd54d2",
   "metadata": {},
   "outputs": [],
   "source": []
  }
 ],
 "metadata": {
  "kernelspec": {
   "display_name": "Python 3 (ipykernel)",
   "language": "python",
   "name": "python3"
  },
  "language_info": {
   "codemirror_mode": {
    "name": "ipython",
    "version": 3
   },
   "file_extension": ".py",
   "mimetype": "text/x-python",
   "name": "python",
   "nbconvert_exporter": "python",
   "pygments_lexer": "ipython3",
   "version": "3.12.2"
  }
 },
 "nbformat": 4,
 "nbformat_minor": 5
}
